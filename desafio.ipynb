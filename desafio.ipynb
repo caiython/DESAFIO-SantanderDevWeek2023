{
 "cells": [
  {
   "cell_type": "markdown",
   "id": "b69309e2",
   "metadata": {},
   "source": [
    "# 1. Introdução\n",
    "\n",
    "O código deste Notebook realiza a extração de dados de um banco de dados criado e aplica um processo de ETL (Extração, Transformação e Carregamento) com o objetivo de gerar valor a partir das informações dos usuários. A finalidade principal é fornecer mensagens personalizadas de investimento, oferecendo insights financeiros relevantes e estratégias de economia adaptadas à situação de cada usuário."
   ]
  },
  {
   "cell_type": "markdown",
   "id": "3e2715c0",
   "metadata": {},
   "source": [
    "# 2. Preparação dos Dados\n",
    "\n",
    "O processo de preparação dos dados envolve a criação de um banco de dados e a inserção de dados fictícios nas tabelas correspondentes, representando usuários, contas e cartões. Essa etapa simula um ambiente realista, permitindo a execução das operações de Extração, Transformação e Carregamento (ETL) em dados semelhantes aos reais. Isso viabiliza a geração de mensagens personalizadas de investimento com base em métricas financeiras calculadas a partir dos dados inseridos, oferecendo insights valiosos aos usuários."
   ]
  },
  {
   "cell_type": "markdown",
   "id": "625f5460",
   "metadata": {},
   "source": [
    "## 2.1. SQLite\n",
    "\n",
    "O Sistema de Gerenciamento de Banco de Dados (SGBD) escolhido foi o SQLite devido à sua leveza e versatilidade para armazenar, gerenciar e recuperar dados. Sua natureza autônoma elimina a necessidade de um servidor externo. Com suporte a consultas SQL, índices e transações, o SQLite atende às demandas do desafio, oferecendo eficiência no gerenciamento de dados locais."
   ]
  },
  {
   "cell_type": "code",
   "execution_count": 1,
   "id": "e73ade55",
   "metadata": {},
   "outputs": [],
   "source": [
    "import sqlite3"
   ]
  },
  {
   "cell_type": "markdown",
   "id": "3a105210",
   "metadata": {},
   "source": [
    "## 2.2. Criação das Tabelas\n",
    "\n",
    "O processo de criação das tabelas no banco de dados segue um fluxo bem definido. Primeiramente, são elaboradas instruções SQL que especificam a estrutura das tabelas, então é estabelecida uma conexão com o banco de dados. Utilizando essa conexão, as tabelas são criadas no banco de dados por meio da execução das instruções."
   ]
  },
  {
   "cell_type": "markdown",
   "id": "6551c355",
   "metadata": {},
   "source": [
    "### 2.2.1. Tabela: Users\n",
    "\n",
    "A tabela `users` armazena informações básicas sobre os usuários, como um identificador único (id) e o nome do usuário. Esta tabela é a base de referência para as outras tabelas, permitindo a associação de informações individuais com cada usuário."
   ]
  },
  {
   "cell_type": "code",
   "execution_count": 2,
   "id": "37d41954",
   "metadata": {},
   "outputs": [],
   "source": [
    "create_table_users = '''\n",
    "    CREATE TABLE users (\n",
    "        id INTEGER PRIMARY KEY AUTOINCREMENT,\n",
    "        name VARCHAR(50)\n",
    "    );\n",
    "'''"
   ]
  },
  {
   "cell_type": "markdown",
   "id": "dcb4f868",
   "metadata": {},
   "source": [
    "### 2.2.2. Tabela: Accounts\n",
    "\n",
    "A tabela `accounts` contém detalhes das contas financeiras dos usuários. Isso inclui informações como o número da conta, a agência bancária, o saldo da conta e o ID do usuário ao qual a conta pertence. A coluna `user_id` estabelece uma relação entre a conta e o usuário correspondente na tabela `users`."
   ]
  },
  {
   "cell_type": "code",
   "execution_count": 3,
   "id": "baca6aa3",
   "metadata": {},
   "outputs": [],
   "source": [
    "create_table_accounts = '''\n",
    "    CREATE TABLE accounts (\n",
    "        id INTEGER PRIMARY KEY AUTOINCREMENT,\n",
    "        number VARCHAR(6) UNIQUE,\n",
    "        agency VARCHAR(4),\n",
    "        balance REAL,\n",
    "        user_id INTEGER,\n",
    "        FOREIGN KEY (user_id) REFERENCES users(id)\n",
    "    );\n",
    "'''"
   ]
  },
  {
   "cell_type": "markdown",
   "id": "c79508a1",
   "metadata": {},
   "source": [
    "### 2.2.3. Tabela: Cards\n",
    "\n",
    "A tabela `cards` armazena dados relacionados aos cartões de crédito dos usuários. Isso inclui o número do cartão, a utilização atual do cartão, o limite do cartão e o ID do usuário associado. A coluna `account_id` estabelece uma relação entre o cartão e a conta correspondente na tabela `accounts`."
   ]
  },
  {
   "cell_type": "code",
   "execution_count": 4,
   "id": "85487d54",
   "metadata": {},
   "outputs": [],
   "source": [
    "create_table_cards = '''\n",
    "    CREATE TABLE cards (\n",
    "        id INTEGER PRIMARY KEY AUTOINCREMENT,\n",
    "        number VARCHAR(16) UNIQUE,\n",
    "        usage REAL,\n",
    "        card_limit REAL,\n",
    "        account_id INTEGER,\n",
    "        FOREIGN KEY (account_id) REFERENCES accounts(id)\n",
    "    );\n",
    "'''"
   ]
  },
  {
   "cell_type": "markdown",
   "id": "6019bb0d",
   "metadata": {},
   "source": [
    "### 2.2.4. Tabela: News\n",
    "\n",
    "A tabela `news` armazena mensagens que serão entregues aos usuários. Cada registro na tabela inclui um ID exclusivo, o ID do usuário associado à mensagem e o conteúdo da mensagem em si."
   ]
  },
  {
   "cell_type": "code",
   "execution_count": 5,
   "id": "e7028a0d",
   "metadata": {},
   "outputs": [],
   "source": [
    "create_table_news = '''\n",
    "    CREATE TABLE news (\n",
    "        id INTEGER PRIMARY KEY AUTOINCREMENT,\n",
    "        message TEXT,\n",
    "        user_id INTEGER,\n",
    "        FOREIGN KEY (user_id) REFERENCES users(id)\n",
    "    );\n",
    "'''"
   ]
  },
  {
   "cell_type": "markdown",
   "id": "3bf80f7d",
   "metadata": {},
   "source": [
    "### 2.2.5. Criando as Tabelas no Banco"
   ]
  },
  {
   "cell_type": "markdown",
   "id": "3d9162d5",
   "metadata": {},
   "source": [
    "Uma vez que as instruções SQL estejam definidas, é realizada a conexão com o banco de dados `SDW2023.db` e a criação das tabelas, seguindo as instruções predefinidas."
   ]
  },
  {
   "cell_type": "code",
   "execution_count": 6,
   "id": "883efd53",
   "metadata": {},
   "outputs": [],
   "source": [
    "conn = sqlite3.connect('SDW2023.db')\n",
    "cur = conn.cursor()\n",
    "cur.execute(create_table_users)\n",
    "cur.execute(create_table_accounts)\n",
    "cur.execute(create_table_cards)\n",
    "cur.execute(create_table_news)\n",
    "conn.commit()\n",
    "cur.close()\n",
    "conn.close()"
   ]
  },
  {
   "cell_type": "markdown",
   "id": "f45015de",
   "metadata": {},
   "source": [
    "## 2.3. Inserção dos Dados"
   ]
  },
  {
   "cell_type": "markdown",
   "id": "c7aa7902",
   "metadata": {},
   "source": [
    "### 2.3.1. Dados"
   ]
  },
  {
   "cell_type": "markdown",
   "id": "78fc4d95",
   "metadata": {},
   "source": [
    "Nesta etapa, são definidos dados fictícios que simulam um ambiente real. Os dados são estruturados em listas de tuplas, onde cada lista representa uma tabela e cada tupla simula um registro correspondente. Cada tupla inclui informações pertinentes às entidades previamente definidas, como nomes de usuários, números de contas e números de cartões.\n",
    "\n",
    "É importante ressaltar que, por enquanto, nenhuma informação será atribuída à tabela `news`. Os dados a serem inseridos nessa tabela serão tratados durante a fase de transformação dos dados.\n",
    "\n",
    "A definição destes dados cobrem todas as variedades possíveis dentro deste contexto bancário:\n",
    "- Usuário com uma conta e nenhum cartão;\n",
    "- Usuário com uma conta e um ou dois cartões;\n",
    "- Usuário com duas contas e nenhum, um ou dois cartões para cada conta."
   ]
  },
  {
   "cell_type": "code",
   "execution_count": 7,
   "id": "d0f036c7",
   "metadata": {},
   "outputs": [],
   "source": [
    "users = [\n",
    "    ('Maria Alice Santos',),\n",
    "    ('José Silva',),\n",
    "    ('Paulo Moreira',),\n",
    "    ('Ana Rodrigues',),\n",
    "    ('Carlos Lima',),\n",
    "    ('Lúcia Almeida',),\n",
    "    ('Fernando Sousa',),\n",
    "    ('Mariana Costa',),\n",
    "    ('Ronaldo Nunes',),\n",
    "]\n",
    "\n",
    "accounts = [\n",
    "    ('000001', '0001', 100.0, 1),\n",
    "    ('000002', '0002', 200.0, 2),\n",
    "    ('000003', '0003', 300.0, 3),\n",
    "    ('000004', '0003', 400.0, 3),\n",
    "    ('000005', '0001', 500.0, 4),\n",
    "    ('000006', '0001', 600.0, 4),\n",
    "    ('000007', '0002', 700.0, 5),\n",
    "    ('000008', '0002', 800.0, 5),\n",
    "    ('000009', '0003', 900.0, 6),\n",
    "    ('000010', '0004', 1000.0, 7),\n",
    "    ('000011', '0004', 1100.0, 7),\n",
    "    ('000012', '0002', 1200.0, 8),\n",
    "    ('000013', '0002', 1300.0, 8),\n",
    "    ('000014', '0001', 1400.0, 9),\n",
    "    ('000015', '0001', 1500.0, 9),\n",
    "]\n",
    "\n",
    "cards = [\n",
    "    ('**** **** **** 0001', 1000.0, 1000.0, 2),\n",
    "    ('**** **** **** 0002', 1000.0, 1500.0, 5),\n",
    "    ('**** **** **** 0003', 1000.0, 2000.0, 7),\n",
    "    ('**** **** **** 0004', 1000.0, 2500.0, 8),\n",
    "    ('**** **** **** 0005', 1000.0, 3000.0, 9),\n",
    "    ('**** **** **** 0006', 500.0, 500.0, 9),\n",
    "    ('**** **** **** 0007', 500.0, 1000.0, 10),\n",
    "    ('**** **** **** 0008', 500.0, 1500.0, 10),\n",
    "    ('**** **** **** 0009', 500.0, 2000.0, 11),\n",
    "    ('**** **** **** 0010', 500.0, 2500.0, 11),\n",
    "    ('**** **** **** 0011', 500.0, 3000.0, 12),\n",
    "    ('**** **** **** 0012', 250.0, 250.0, 12),\n",
    "    ('**** **** **** 0013', 250.0, 500.0, 13),\n",
    "    ('**** **** **** 0014', 250.0, 750.0, 15),\n",
    "    ('**** **** **** 0015', 250.0, 1000.0, 15),\n",
    "]"
   ]
  },
  {
   "cell_type": "markdown",
   "id": "fe5424f4",
   "metadata": {},
   "source": [
    "### 2.3.2. Inserção dos Dados no Banco"
   ]
  },
  {
   "cell_type": "markdown",
   "id": "5a5370ba",
   "metadata": {},
   "source": [
    "Com os dados estruturados, é feita uma nova conexão com o banco. Utilizando um cursor, ele itera pelas listas de usuarios, contas e cartões, executando instruções SQL para inserir os dados definidos nas tabelas correspondentes, finalizando a etapa de preparação dos dados."
   ]
  },
  {
   "cell_type": "code",
   "execution_count": 8,
   "id": "b62a3713",
   "metadata": {},
   "outputs": [],
   "source": [
    "conn = sqlite3.connect('SDW2023.db')\n",
    "cur = conn.cursor()\n",
    "\n",
    "for user in users:\n",
    "    cur.execute('INSERT INTO users (name) VALUES (?)', user)\n",
    "\n",
    "for account in accounts:\n",
    "    cur.execute('INSERT INTO accounts (number, agency, balance, user_id) VALUES (?, ?, ?, ?)', account)\n",
    "\n",
    "for card in cards:\n",
    "    cur.execute('INSERT INTO cards (number, usage, card_limit, account_id) VALUES (?, ?, ?, ?)', card)\n",
    "\n",
    "conn.commit()\n",
    "conn.close()"
   ]
  },
  {
   "cell_type": "markdown",
   "id": "30e1af4c",
   "metadata": {},
   "source": [
    "# 3. Extração, Transformação e Carregamento\n",
    "\n",
    "Continua..."
   ]
  }
 ],
 "metadata": {
  "kernelspec": {
   "display_name": "Python 3 (ipykernel)",
   "language": "python",
   "name": "python3"
  },
  "language_info": {
   "codemirror_mode": {
    "name": "ipython",
    "version": 3
   },
   "file_extension": ".py",
   "mimetype": "text/x-python",
   "name": "python",
   "nbconvert_exporter": "python",
   "pygments_lexer": "ipython3",
   "version": "3.9.13"
  }
 },
 "nbformat": 4,
 "nbformat_minor": 5
}
