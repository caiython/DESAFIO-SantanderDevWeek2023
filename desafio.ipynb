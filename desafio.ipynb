{
 "cells": [
  {
   "cell_type": "markdown",
   "id": "540d58e9",
   "metadata": {},
   "source": [
    "<h1 style=\"font-size: 30px\"> DESAFIO SANTANDER DEV WEEK 2023 </h1>"
   ]
  },
  {
   "cell_type": "markdown",
   "id": "b69309e2",
   "metadata": {},
   "source": [
    "# 1. Introdução\n",
    "\n",
    "O código deste Notebook realiza a extração de dados de um banco de dados criado e aplica um processo de ETL (Extração, Transformação e Carregamento) com o objetivo de gerar valor a partir das informações dos usuários. A finalidade principal é fornecer mensagens personalizadas de investimento, oferecendo insights financeiros relevantes e estratégias de economia adaptadas à situação de cada usuário."
   ]
  },
  {
   "cell_type": "markdown",
   "id": "3e2715c0",
   "metadata": {},
   "source": [
    "# 2. Preparação dos Dados\n",
    "\n",
    "O processo de preparação dos dados envolve a criação de um banco de dados e a inserção de dados fictícios nas tabelas correspondentes, representando usuários, contas e cartões. Essa etapa simula um ambiente realista, permitindo a execução das operações de Extração, Transformação e Carregamento (ETL) em dados semelhantes aos reais. Isso viabiliza a geração de mensagens personalizadas de investimento com base em métricas financeiras calculadas a partir dos dados inseridos, oferecendo insights valiosos aos usuários."
   ]
  },
  {
   "cell_type": "markdown",
   "id": "625f5460",
   "metadata": {},
   "source": [
    "## 2.1. SQLite\n",
    "\n",
    "O Sistema de Gerenciamento de Banco de Dados (SGBD) escolhido foi o SQLite devido à sua leveza e versatilidade para armazenar, gerenciar e recuperar dados. Sua natureza autônoma elimina a necessidade de um servidor externo. Com suporte a consultas SQL, índices e transações, o SQLite atende às demandas do desafio, oferecendo eficiência no gerenciamento de dados locais."
   ]
  },
  {
   "cell_type": "code",
   "execution_count": 1,
   "id": "e73ade55",
   "metadata": {},
   "outputs": [],
   "source": [
    "import sqlite3"
   ]
  },
  {
   "cell_type": "markdown",
   "id": "3a105210",
   "metadata": {},
   "source": [
    "## 2.2. Criação das Tabelas\n",
    "\n",
    "O processo de criação das tabelas no banco de dados segue um fluxo bem definido. Primeiramente, são elaboradas instruções SQL que especificam a estrutura das tabelas, então é estabelecida uma conexão com o banco de dados. Utilizando essa conexão, as tabelas são criadas no banco de dados por meio da execução das instruções."
   ]
  },
  {
   "cell_type": "markdown",
   "id": "6551c355",
   "metadata": {},
   "source": [
    "### 2.2.1. Tabela: Users\n",
    "\n",
    "A tabela `users` armazena informações básicas sobre os usuários, como um identificador único (id) e o nome do usuário. Esta tabela é a base de referência para as outras tabelas, permitindo a associação de informações individuais com cada usuário."
   ]
  },
  {
   "cell_type": "code",
   "execution_count": 2,
   "id": "37d41954",
   "metadata": {},
   "outputs": [],
   "source": [
    "create_table_users = '''\n",
    "    CREATE TABLE users (\n",
    "        id INTEGER PRIMARY KEY AUTOINCREMENT,\n",
    "        name VARCHAR(50)\n",
    "    );\n",
    "'''"
   ]
  },
  {
   "cell_type": "markdown",
   "id": "dcb4f868",
   "metadata": {},
   "source": [
    "### 2.2.2. Tabela: Accounts\n",
    "\n",
    "A tabela `accounts` contém detalhes das contas financeiras dos usuários. Isso inclui informações como o número da conta, a agência bancária, o saldo da conta e o ID do usuário ao qual a conta pertence. A coluna `user_id` estabelece uma relação entre a conta e o usuário correspondente na tabela `users`."
   ]
  },
  {
   "cell_type": "code",
   "execution_count": 3,
   "id": "baca6aa3",
   "metadata": {},
   "outputs": [],
   "source": [
    "create_table_accounts = '''\n",
    "    CREATE TABLE accounts (\n",
    "        id INTEGER PRIMARY KEY AUTOINCREMENT,\n",
    "        number VARCHAR(6) UNIQUE,\n",
    "        agency VARCHAR(4),\n",
    "        balance REAL,\n",
    "        user_id INTEGER,\n",
    "        FOREIGN KEY (user_id) REFERENCES users(id)\n",
    "    );\n",
    "'''"
   ]
  },
  {
   "cell_type": "markdown",
   "id": "c79508a1",
   "metadata": {},
   "source": [
    "### 2.2.3. Tabela: Cards\n",
    "\n",
    "A tabela `cards` armazena dados relacionados aos cartões de crédito dos usuários. Isso inclui o número do cartão, a utilização atual do cartão, o limite do cartão e o ID do usuário associado. A coluna `account_id` estabelece uma relação entre o cartão e a conta correspondente na tabela `accounts`."
   ]
  },
  {
   "cell_type": "code",
   "execution_count": 4,
   "id": "85487d54",
   "metadata": {},
   "outputs": [],
   "source": [
    "create_table_cards = '''\n",
    "    CREATE TABLE cards (\n",
    "        id INTEGER PRIMARY KEY AUTOINCREMENT,\n",
    "        number VARCHAR(16) UNIQUE,\n",
    "        usage REAL,\n",
    "        card_limit REAL,\n",
    "        account_id INTEGER,\n",
    "        FOREIGN KEY (account_id) REFERENCES accounts(id)\n",
    "    );\n",
    "'''"
   ]
  },
  {
   "cell_type": "markdown",
   "id": "6019bb0d",
   "metadata": {},
   "source": [
    "### 2.2.4. Tabela: News\n",
    "\n",
    "A tabela `news` armazena mensagens que serão entregues aos usuários. Cada registro na tabela inclui um ID exclusivo, o ID do usuário associado à mensagem e o conteúdo da mensagem em si."
   ]
  },
  {
   "cell_type": "code",
   "execution_count": 5,
   "id": "e7028a0d",
   "metadata": {},
   "outputs": [],
   "source": [
    "create_table_news = '''\n",
    "    CREATE TABLE news (\n",
    "        id INTEGER PRIMARY KEY AUTOINCREMENT,\n",
    "        message TEXT,\n",
    "        user_id INTEGER,\n",
    "        FOREIGN KEY (user_id) REFERENCES users(id)\n",
    "    );\n",
    "'''"
   ]
  },
  {
   "cell_type": "markdown",
   "id": "3bf80f7d",
   "metadata": {},
   "source": [
    "### 2.2.5. Criando as Tabelas no Banco"
   ]
  },
  {
   "cell_type": "markdown",
   "id": "3d9162d5",
   "metadata": {},
   "source": [
    "Uma vez que as instruções SQL estejam definidas, é realizada a conexão com o banco de dados `SDW2023.db` e a criação das tabelas, seguindo as instruções predefinidas."
   ]
  },
  {
   "cell_type": "code",
   "execution_count": 6,
   "id": "883efd53",
   "metadata": {},
   "outputs": [],
   "source": [
    "conn = sqlite3.connect('SDW2023.db')\n",
    "cur = conn.cursor()\n",
    "cur.execute(create_table_users)\n",
    "cur.execute(create_table_accounts)\n",
    "cur.execute(create_table_cards)\n",
    "cur.execute(create_table_news)\n",
    "conn.commit()\n",
    "cur.close()\n",
    "conn.close()"
   ]
  },
  {
   "cell_type": "markdown",
   "id": "f45015de",
   "metadata": {},
   "source": [
    "## 2.3. Inserção dos Dados"
   ]
  },
  {
   "cell_type": "markdown",
   "id": "c7aa7902",
   "metadata": {},
   "source": [
    "### 2.3.1. Dados"
   ]
  },
  {
   "cell_type": "markdown",
   "id": "78fc4d95",
   "metadata": {},
   "source": [
    "Nesta etapa, são definidos dados fictícios que simulam um ambiente real. Os dados são estruturados em listas de tuplas, onde cada lista representa uma tabela e cada tupla simula um registro correspondente. Cada tupla inclui informações pertinentes às entidades previamente definidas, como nomes de usuários, números de contas e números de cartões.\n",
    "\n",
    "É importante ressaltar que, por enquanto, nenhuma informação será atribuída à tabela `news`. Os dados a serem inseridos nessa tabela serão tratados durante a fase de transformação dos dados.\n",
    "\n",
    "A definição destes dados cobrem todas as variedades possíveis dentro deste contexto bancário:\n",
    "- Usuário com uma conta e nenhum cartão;\n",
    "- Usuário com uma conta e um ou dois cartões;\n",
    "- Usuário com duas contas e nenhum, um ou dois cartões para cada conta."
   ]
  },
  {
   "cell_type": "code",
   "execution_count": 7,
   "id": "d0f036c7",
   "metadata": {},
   "outputs": [],
   "source": [
    "users = [\n",
    "    ('Maria Alice Santos',),\n",
    "    ('Ronaldo Nunes',),\n",
    "    ('Paulo Moreira',),\n",
    "    ('Ana Rodrigues',),\n",
    "    ('Carlos Lima',),\n",
    "    ('Lúcia Almeida',),\n",
    "    ('Fernando Sousa',),\n",
    "    ('Mariana Costa',),\n",
    "    ('José Silva',),\n",
    "]\n",
    "\n",
    "accounts = [\n",
    "    ('000001', '0001', 100.0, 1),\n",
    "    ('000002', '0002', 200.0, 2),\n",
    "    ('000003', '0003', 300.0, 3),\n",
    "    ('000004', '0003', 400.0, 3),\n",
    "    ('000005', '0001', 500.0, 4),\n",
    "    ('000006', '0001', 600.0, 4),\n",
    "    ('000007', '0002', 700.0, 5),\n",
    "    ('000008', '0002', 800.0, 5),\n",
    "    ('000009', '0003', 900.0, 6),\n",
    "    ('000010', '0004', 1000.0, 7),\n",
    "    ('000011', '0004', 1100.0, 7),\n",
    "    ('000012', '0002', 1200.0, 8),\n",
    "    ('000013', '0002', 1300.0, 8),\n",
    "    ('000014', '0001', 1400.0, 9),\n",
    "    ('000015', '0001', 1500.0, 9),\n",
    "]\n",
    "\n",
    "cards = [\n",
    "    ('**** **** **** 0001', 1000.0, 1000.0, 2),\n",
    "    ('**** **** **** 0002', 1000.0, 1500.0, 5),\n",
    "    ('**** **** **** 0003', 1000.0, 2000.0, 7),\n",
    "    ('**** **** **** 0004', 1000.0, 2500.0, 8),\n",
    "    ('**** **** **** 0005', 1000.0, 3000.0, 9),\n",
    "    ('**** **** **** 0006', 500.0, 500.0, 9),\n",
    "    ('**** **** **** 0007', 500.0, 1000.0, 10),\n",
    "    ('**** **** **** 0008', 500.0, 1500.0, 10),\n",
    "    ('**** **** **** 0009', 500.0, 2000.0, 11),\n",
    "    ('**** **** **** 0010', 500.0, 2500.0, 11),\n",
    "    ('**** **** **** 0011', 500.0, 3000.0, 12),\n",
    "    ('**** **** **** 0012', 250.0, 250.0, 12),\n",
    "    ('**** **** **** 0013', 250.0, 500.0, 13),\n",
    "    ('**** **** **** 0014', 250.0, 750.0, 15),\n",
    "    ('**** **** **** 0015', 250.0, 1000.0, 15),\n",
    "]"
   ]
  },
  {
   "cell_type": "markdown",
   "id": "fe5424f4",
   "metadata": {},
   "source": [
    "### 2.3.2. Inserção dos Dados no Banco"
   ]
  },
  {
   "cell_type": "markdown",
   "id": "5a5370ba",
   "metadata": {},
   "source": [
    "Com os dados estruturados, é feita uma nova conexão com o banco. Utilizando um cursor, ele itera pelas listas de usuarios, contas e cartões, executando instruções SQL para inserir os dados definidos nas tabelas correspondentes, finalizando a etapa de preparação dos dados."
   ]
  },
  {
   "cell_type": "code",
   "execution_count": 8,
   "id": "b62a3713",
   "metadata": {},
   "outputs": [],
   "source": [
    "conn = sqlite3.connect('SDW2023.db')\n",
    "cur = conn.cursor()\n",
    "\n",
    "for user in users:\n",
    "    cur.execute('INSERT INTO users (name) VALUES (?)', user)\n",
    "\n",
    "for account in accounts:\n",
    "    cur.execute('INSERT INTO accounts (number, agency, balance, user_id) VALUES (?, ?, ?, ?)', account)\n",
    "\n",
    "for card in cards:\n",
    "    cur.execute('INSERT INTO cards (number, usage, card_limit, account_id) VALUES (?, ?, ?, ?)', card)\n",
    "\n",
    "conn.commit()\n",
    "conn.close()"
   ]
  },
  {
   "cell_type": "markdown",
   "id": "30e1af4c",
   "metadata": {},
   "source": [
    "# 3. Extração, Transformação e Carregamento\n",
    "\n",
    "O processo de ETL neste desafio é iniciado com a extração de dados das tabelas SQL. Na etapa subsequente, os dados passam por uma transformação para agregar valor aos dados através de mensagens com estratégias de economia. Por fim, as mensagens personalizadas são carregadas na tabela news, que podem ser consumidas por um sistema de envio de mensagens aos usuários.\n",
    "\n",
    "Para realizar esse processo, será utilizada a biblioteca `pandas`, que possibilita a manipulação e análise eficiente dos dados."
   ]
  },
  {
   "cell_type": "code",
   "execution_count": 9,
   "id": "13c38249",
   "metadata": {},
   "outputs": [],
   "source": [
    "import pandas as pd"
   ]
  },
  {
   "cell_type": "markdown",
   "id": "22c03686",
   "metadata": {},
   "source": [
    "## 3.1. Extração"
   ]
  },
  {
   "cell_type": "markdown",
   "id": "1308e8fe",
   "metadata": {},
   "source": [
    "Nessa etapa, os dados são extraídos das tabelas SQL por meio de uma consulta SQL elaborada para unir informações relevantes de diferentes tabelas. A biblioteca `pandas` é usada para transformar os resultados em um `DataFrame`, permitindo a análise e manipulação eficaz dos dados. O processo resulta na visualização tabular dos dados extraídos, fornecendo a base para as etapas seguintes de transformação."
   ]
  },
  {
   "cell_type": "code",
   "execution_count": 10,
   "id": "acc94633",
   "metadata": {},
   "outputs": [
    {
     "data": {
      "text/html": [
       "<div>\n",
       "<style scoped>\n",
       "    .dataframe tbody tr th:only-of-type {\n",
       "        vertical-align: middle;\n",
       "    }\n",
       "\n",
       "    .dataframe tbody tr th {\n",
       "        vertical-align: top;\n",
       "    }\n",
       "\n",
       "    .dataframe thead th {\n",
       "        text-align: right;\n",
       "    }\n",
       "</style>\n",
       "<table border=\"1\" class=\"dataframe\">\n",
       "  <thead>\n",
       "    <tr style=\"text-align: right;\">\n",
       "      <th></th>\n",
       "      <th>user_id</th>\n",
       "      <th>username</th>\n",
       "      <th>card_id</th>\n",
       "      <th>card_number</th>\n",
       "      <th>card_usage</th>\n",
       "      <th>card_limit</th>\n",
       "    </tr>\n",
       "  </thead>\n",
       "  <tbody>\n",
       "    <tr>\n",
       "      <th>0</th>\n",
       "      <td>1</td>\n",
       "      <td>Maria Alice Santos</td>\n",
       "      <td>NaN</td>\n",
       "      <td>None</td>\n",
       "      <td>NaN</td>\n",
       "      <td>NaN</td>\n",
       "    </tr>\n",
       "    <tr>\n",
       "      <th>1</th>\n",
       "      <td>2</td>\n",
       "      <td>Ronaldo Nunes</td>\n",
       "      <td>1.0</td>\n",
       "      <td>**** **** **** 0001</td>\n",
       "      <td>1000.0</td>\n",
       "      <td>1000.0</td>\n",
       "    </tr>\n",
       "    <tr>\n",
       "      <th>2</th>\n",
       "      <td>3</td>\n",
       "      <td>Paulo Moreira</td>\n",
       "      <td>NaN</td>\n",
       "      <td>None</td>\n",
       "      <td>NaN</td>\n",
       "      <td>NaN</td>\n",
       "    </tr>\n",
       "    <tr>\n",
       "      <th>3</th>\n",
       "      <td>3</td>\n",
       "      <td>Paulo Moreira</td>\n",
       "      <td>NaN</td>\n",
       "      <td>None</td>\n",
       "      <td>NaN</td>\n",
       "      <td>NaN</td>\n",
       "    </tr>\n",
       "    <tr>\n",
       "      <th>4</th>\n",
       "      <td>4</td>\n",
       "      <td>Ana Rodrigues</td>\n",
       "      <td>2.0</td>\n",
       "      <td>**** **** **** 0002</td>\n",
       "      <td>1000.0</td>\n",
       "      <td>1500.0</td>\n",
       "    </tr>\n",
       "    <tr>\n",
       "      <th>5</th>\n",
       "      <td>4</td>\n",
       "      <td>Ana Rodrigues</td>\n",
       "      <td>NaN</td>\n",
       "      <td>None</td>\n",
       "      <td>NaN</td>\n",
       "      <td>NaN</td>\n",
       "    </tr>\n",
       "    <tr>\n",
       "      <th>6</th>\n",
       "      <td>5</td>\n",
       "      <td>Carlos Lima</td>\n",
       "      <td>3.0</td>\n",
       "      <td>**** **** **** 0003</td>\n",
       "      <td>1000.0</td>\n",
       "      <td>2000.0</td>\n",
       "    </tr>\n",
       "    <tr>\n",
       "      <th>7</th>\n",
       "      <td>5</td>\n",
       "      <td>Carlos Lima</td>\n",
       "      <td>4.0</td>\n",
       "      <td>**** **** **** 0004</td>\n",
       "      <td>1000.0</td>\n",
       "      <td>2500.0</td>\n",
       "    </tr>\n",
       "    <tr>\n",
       "      <th>8</th>\n",
       "      <td>6</td>\n",
       "      <td>Lúcia Almeida</td>\n",
       "      <td>5.0</td>\n",
       "      <td>**** **** **** 0005</td>\n",
       "      <td>1000.0</td>\n",
       "      <td>3000.0</td>\n",
       "    </tr>\n",
       "    <tr>\n",
       "      <th>9</th>\n",
       "      <td>6</td>\n",
       "      <td>Lúcia Almeida</td>\n",
       "      <td>6.0</td>\n",
       "      <td>**** **** **** 0006</td>\n",
       "      <td>500.0</td>\n",
       "      <td>500.0</td>\n",
       "    </tr>\n",
       "    <tr>\n",
       "      <th>10</th>\n",
       "      <td>7</td>\n",
       "      <td>Fernando Sousa</td>\n",
       "      <td>7.0</td>\n",
       "      <td>**** **** **** 0007</td>\n",
       "      <td>500.0</td>\n",
       "      <td>1000.0</td>\n",
       "    </tr>\n",
       "    <tr>\n",
       "      <th>11</th>\n",
       "      <td>7</td>\n",
       "      <td>Fernando Sousa</td>\n",
       "      <td>8.0</td>\n",
       "      <td>**** **** **** 0008</td>\n",
       "      <td>500.0</td>\n",
       "      <td>1500.0</td>\n",
       "    </tr>\n",
       "    <tr>\n",
       "      <th>12</th>\n",
       "      <td>7</td>\n",
       "      <td>Fernando Sousa</td>\n",
       "      <td>9.0</td>\n",
       "      <td>**** **** **** 0009</td>\n",
       "      <td>500.0</td>\n",
       "      <td>2000.0</td>\n",
       "    </tr>\n",
       "    <tr>\n",
       "      <th>13</th>\n",
       "      <td>7</td>\n",
       "      <td>Fernando Sousa</td>\n",
       "      <td>10.0</td>\n",
       "      <td>**** **** **** 0010</td>\n",
       "      <td>500.0</td>\n",
       "      <td>2500.0</td>\n",
       "    </tr>\n",
       "    <tr>\n",
       "      <th>14</th>\n",
       "      <td>8</td>\n",
       "      <td>Mariana Costa</td>\n",
       "      <td>11.0</td>\n",
       "      <td>**** **** **** 0011</td>\n",
       "      <td>500.0</td>\n",
       "      <td>3000.0</td>\n",
       "    </tr>\n",
       "    <tr>\n",
       "      <th>15</th>\n",
       "      <td>8</td>\n",
       "      <td>Mariana Costa</td>\n",
       "      <td>12.0</td>\n",
       "      <td>**** **** **** 0012</td>\n",
       "      <td>250.0</td>\n",
       "      <td>250.0</td>\n",
       "    </tr>\n",
       "    <tr>\n",
       "      <th>16</th>\n",
       "      <td>8</td>\n",
       "      <td>Mariana Costa</td>\n",
       "      <td>13.0</td>\n",
       "      <td>**** **** **** 0013</td>\n",
       "      <td>250.0</td>\n",
       "      <td>500.0</td>\n",
       "    </tr>\n",
       "    <tr>\n",
       "      <th>17</th>\n",
       "      <td>9</td>\n",
       "      <td>José Silva</td>\n",
       "      <td>NaN</td>\n",
       "      <td>None</td>\n",
       "      <td>NaN</td>\n",
       "      <td>NaN</td>\n",
       "    </tr>\n",
       "    <tr>\n",
       "      <th>18</th>\n",
       "      <td>9</td>\n",
       "      <td>José Silva</td>\n",
       "      <td>14.0</td>\n",
       "      <td>**** **** **** 0014</td>\n",
       "      <td>250.0</td>\n",
       "      <td>750.0</td>\n",
       "    </tr>\n",
       "    <tr>\n",
       "      <th>19</th>\n",
       "      <td>9</td>\n",
       "      <td>José Silva</td>\n",
       "      <td>15.0</td>\n",
       "      <td>**** **** **** 0015</td>\n",
       "      <td>250.0</td>\n",
       "      <td>1000.0</td>\n",
       "    </tr>\n",
       "  </tbody>\n",
       "</table>\n",
       "</div>"
      ],
      "text/plain": [
       "    user_id            username  card_id          card_number  card_usage  \\\n",
       "0         1  Maria Alice Santos      NaN                 None         NaN   \n",
       "1         2       Ronaldo Nunes      1.0  **** **** **** 0001      1000.0   \n",
       "2         3       Paulo Moreira      NaN                 None         NaN   \n",
       "3         3       Paulo Moreira      NaN                 None         NaN   \n",
       "4         4       Ana Rodrigues      2.0  **** **** **** 0002      1000.0   \n",
       "5         4       Ana Rodrigues      NaN                 None         NaN   \n",
       "6         5         Carlos Lima      3.0  **** **** **** 0003      1000.0   \n",
       "7         5         Carlos Lima      4.0  **** **** **** 0004      1000.0   \n",
       "8         6       Lúcia Almeida      5.0  **** **** **** 0005      1000.0   \n",
       "9         6       Lúcia Almeida      6.0  **** **** **** 0006       500.0   \n",
       "10        7      Fernando Sousa      7.0  **** **** **** 0007       500.0   \n",
       "11        7      Fernando Sousa      8.0  **** **** **** 0008       500.0   \n",
       "12        7      Fernando Sousa      9.0  **** **** **** 0009       500.0   \n",
       "13        7      Fernando Sousa     10.0  **** **** **** 0010       500.0   \n",
       "14        8       Mariana Costa     11.0  **** **** **** 0011       500.0   \n",
       "15        8       Mariana Costa     12.0  **** **** **** 0012       250.0   \n",
       "16        8       Mariana Costa     13.0  **** **** **** 0013       250.0   \n",
       "17        9          José Silva      NaN                 None         NaN   \n",
       "18        9          José Silva     14.0  **** **** **** 0014       250.0   \n",
       "19        9          José Silva     15.0  **** **** **** 0015       250.0   \n",
       "\n",
       "    card_limit  \n",
       "0          NaN  \n",
       "1       1000.0  \n",
       "2          NaN  \n",
       "3          NaN  \n",
       "4       1500.0  \n",
       "5          NaN  \n",
       "6       2000.0  \n",
       "7       2500.0  \n",
       "8       3000.0  \n",
       "9        500.0  \n",
       "10      1000.0  \n",
       "11      1500.0  \n",
       "12      2000.0  \n",
       "13      2500.0  \n",
       "14      3000.0  \n",
       "15       250.0  \n",
       "16       500.0  \n",
       "17         NaN  \n",
       "18       750.0  \n",
       "19      1000.0  "
      ]
     },
     "metadata": {},
     "output_type": "display_data"
    }
   ],
   "source": [
    "query = '''\n",
    "    SELECT u.id AS user_id, u.name AS username, c.id AS card_id, c.number AS card_number, c.usage AS card_usage, c.card_limit\n",
    "    FROM users u\n",
    "    JOIN accounts a ON u.id = a.user_id\n",
    "    FULL JOIN cards c ON a.id = c.account_id\n",
    "'''\n",
    "\n",
    "conn = sqlite3.connect('SDW2023.db')\n",
    "df = pd.read_sql(query, conn)\n",
    "conn.close()\n",
    "\n",
    "display(df)"
   ]
  },
  {
   "cell_type": "markdown",
   "id": "70089f45",
   "metadata": {},
   "source": [
    "# 3.2.Transformação\n",
    "\n",
    "Para a transformação, é gerado valor através da verificação da porcentagem de uso do cartão de crédito do usuário, com o propósito de atribuir uma mensagem de alerta personalizada com base em seu padrão de uso."
   ]
  },
  {
   "cell_type": "markdown",
   "id": "a2a9e595",
   "metadata": {},
   "source": [
    "### 3.2.1. Nova Coluna: Porcentagem de Uso do Cartão\n",
    "Inicialmente, é calculada a porcentagem de uso do cartão para cada usuário. O resultado é arredondado para duas casas decimais e armazenado na nova coluna `card_usage_percentage`. Isso proporciona uma visão clara da relação entre o uso do cartão e o limite disponível para cada usuário."
   ]
  },
  {
   "cell_type": "code",
   "execution_count": 11,
   "id": "31966f91",
   "metadata": {},
   "outputs": [],
   "source": [
    "df['card_usage_percentage'] = round(df['card_usage']/df['card_limit'], 2)"
   ]
  },
  {
   "cell_type": "markdown",
   "id": "891abba8",
   "metadata": {},
   "source": [
    "### 3.2.2. Função: Generate Alert\n",
    "Posteriormente, a função `generate_alert` é empregada para criar mensagens de alerta personalizadas. Essas mensagens variam conforme a porcentagem de uso do cartão, abrangendo diversos cenários de uso. Cada alerta oferece uma recomendação ou conselho pertinente, orientando o usuário com base na porcentagem de uso específica. Na função, espera-se na entrada uma tupla de 3 posições, com a porcentagem de uso do cartão, o primeiro nome do usuário e os últimos dígitos do cartão, respectivamente."
   ]
  },
  {
   "cell_type": "code",
   "execution_count": 12,
   "id": "dab31132",
   "metadata": {},
   "outputs": [],
   "source": [
    "def generate_alert(user_inputs):\n",
    "    \n",
    "    usage_percentage = user_inputs[0]\n",
    "    user_first_name = user_inputs[1]\n",
    "    card_number_last_digits = user_inputs[2]\n",
    "    \n",
    "    if pd.isna(usage_percentage) is True:\n",
    "        return f\"🌟 Hey {user_first_name}, que tal aproveitar nossos incríveis cartões de crédito? Eles podem tornar suas compras ainda mais especiais!\"\n",
    "    \n",
    "    alerts = [\n",
    "        (1.0, f\"⚠️ {user_first_name}, alerta importante! Seu cartão com final {card_number_last_digits} atingiu ou ultrapassou o limite. Hora de dar um respiro nos gastos! Avalie seus gastos recentes e crie um plano para evitar excessos futuros.\"),\n",
    "        (0.9, f\"🛑 Atenção, {user_first_name}! Você está quase no limite! Vamos diminuir o ritmo para manter tudo sob controle. Dica: Analise suas transações e identifique áreas onde pode cortar gastos desnecessários.\"),\n",
    "        (0.8, f\"📢 Ei, {user_first_name}, a gente percebeu que você está usando bastante seu cartão. Vamos dar um check nos gastos? Lembrete: Criar um orçamento pode ajudar a gerenciar suas despesas de forma eficiente.\"),\n",
    "        (0.6, f\"🔍 {user_first_name}, seus gastos estão moderados. Que tal dar uma olhada nas despesas para manter tudo nos eixos? Dica: Revisar suas transações pode ajudar a identificar oportunidades de economia.\"),\n",
    "        (0.4, f\"💡 {user_first_name}, ótimo equilíbrio nos gastos! Continue assim e sua conta vai sorrir de alegria! Sugestão: Considere criar um plano de economia para investir o dinheiro economizado.\"),\n",
    "        (0.2, f\"🚀 {user_first_name}, você está abaixo do limite! Mantenha o ritmo e continue controlando seus gastos com maestria! Dica: Explore opções de investimento para aumentar seus ganhos.\"),\n",
    "        (0.0, f\"🌈 {user_first_name}, seus gastos estão ótimos! Continue assim e seu cartão vai ficar muito feliz com você! Sugestão: Mantenha um registro das suas economias para acompanhar seu progresso.\")\n",
    "    ]\n",
    "    \n",
    "    for limit, message in alerts:\n",
    "        if usage_percentage >= limit:\n",
    "            return message\n",
    "    \n",
    "    return None"
   ]
  },
  {
   "cell_type": "markdown",
   "id": "dd34b98c",
   "metadata": {},
   "source": [
    "### 3.2.3. Função: Get Inputs\n",
    "A função get_inputs extrai informações relevantes para a geração de alertas a partir do `DataFrame` com base no `user_id`. Esses dados incluem a porcentagem máxima de uso do cartão, o primeiro nome do usuário e os dígitos finais do número do cartão, que são os dados de entrada da função `generate_alert`."
   ]
  },
  {
   "cell_type": "code",
   "execution_count": 13,
   "id": "a45d2650",
   "metadata": {},
   "outputs": [],
   "source": [
    "def get_inputs(df, user_id):\n",
    "\n",
    "    user_data = df[df['user_id'] == user_id]\n",
    "    max_usage_pct = user_data['card_usage_percentage'].max()\n",
    "    \n",
    "    if pd.isna(max_usage_pct):\n",
    "        user_id = user_data['user_id'].iloc[0]\n",
    "        user_first_name = user_data['username'].iloc[0].split()[0]\n",
    "        card_number_last_digits = user_data['card_number'].iloc[0]\n",
    "    else:\n",
    "        max_row = user_data[user_data['card_usage_percentage'] == max_usage_pct].iloc[0]\n",
    "        user_id = max_row['user_id']\n",
    "        user_first_name = max_row['username'].split()[0]\n",
    "        card_number_last_digits = max_row['card_number'].split()[-1]\n",
    "    \n",
    "    return (max_usage_pct, user_first_name, card_number_last_digits)"
   ]
  },
  {
   "cell_type": "markdown",
   "id": "62173687",
   "metadata": {},
   "source": [
    "### 3.2.4. Iteração e Preparação Para o Carregamento\n",
    "Neste estágio final da transformação, ocorre a iteração pelos `user_id` únicos no `DataFrame`. Para cada `user_id`, um alerta é gerado usando a função `generate_alert`, e os dados necessários são obtidos por meio da função `get_inputs`. Esses dados são então agregados a uma lista chamada `data_to_load`, que resulta em pares de `user_id` e alertas personalizados. A lista `data_to_load` é o conjunto final de dados pronto para ser carregado no banco de dados."
   ]
  },
  {
   "cell_type": "code",
   "execution_count": 14,
   "id": "db8d7fa5",
   "metadata": {
    "scrolled": true
   },
   "outputs": [],
   "source": [
    "data_to_load = []\n",
    "\n",
    "for user_id in df['user_id'].unique():\n",
    "    data_to_load.append((user_id, generate_alert(get_inputs(df, user_id))))"
   ]
  },
  {
   "cell_type": "markdown",
   "id": "84c80ef5",
   "metadata": {},
   "source": [
    "# 3.3. Carregamento"
   ]
  },
  {
   "cell_type": "markdown",
   "id": "676b6473",
   "metadata": {},
   "source": [
    "### 3.3.1. Instrução de Inserção\n",
    "A instrução SQL `insert_news` é definida para inserir os dados de `user_id` e `mensagem` na tabela news."
   ]
  },
  {
   "cell_type": "code",
   "execution_count": 15,
   "id": "1e231fea",
   "metadata": {},
   "outputs": [],
   "source": [
    "insert_news = \"INSERT INTO news(user_id, message) VALUES (?, ?)\""
   ]
  },
  {
   "cell_type": "markdown",
   "id": "6fbad9c4",
   "metadata": {},
   "source": [
    "### 3.3.2. Carregando os Dados no Banco de Dados\n",
    "Nesta etapa, os pares `user_id` e `message` são carregados na tabela `news`. Através da instrução `insert_news`, os dados da lista `data_to_load` são inseridos no banco de dados, assegurando que os alertas personalizados sejam associados aos respectivos usuários e, ainda, possam ser utilizados por outro processo do sistema para enviá-las aos usuários."
   ]
  },
  {
   "cell_type": "code",
   "execution_count": 16,
   "id": "35820a44",
   "metadata": {},
   "outputs": [],
   "source": [
    "conn = sqlite3.connect('SDW2023.db')\n",
    "cur = conn.cursor()\n",
    "\n",
    "for data in data_to_load:\n",
    "    cur.execute(insert_news, (int(data[0]), data[1]))\n",
    "\n",
    "conn.commit()\n",
    "cur.close()\n",
    "conn.close()"
   ]
  },
  {
   "cell_type": "markdown",
   "id": "5a7ac572",
   "metadata": {},
   "source": [
    "### 3.3.3. Visualizando Resultados\n",
    "\n",
    "Para finalizar o processo, visualizamos o carregamento através da execução de uma consulta SQL."
   ]
  },
  {
   "cell_type": "code",
   "execution_count": 17,
   "id": "1417e786",
   "metadata": {},
   "outputs": [
    {
     "data": {
      "text/html": [
       "<div>\n",
       "<style scoped>\n",
       "    .dataframe tbody tr th:only-of-type {\n",
       "        vertical-align: middle;\n",
       "    }\n",
       "\n",
       "    .dataframe tbody tr th {\n",
       "        vertical-align: top;\n",
       "    }\n",
       "\n",
       "    .dataframe thead th {\n",
       "        text-align: right;\n",
       "    }\n",
       "</style>\n",
       "<table border=\"1\" class=\"dataframe\">\n",
       "  <thead>\n",
       "    <tr style=\"text-align: right;\">\n",
       "      <th></th>\n",
       "      <th>user_id</th>\n",
       "      <th>username</th>\n",
       "      <th>message</th>\n",
       "    </tr>\n",
       "  </thead>\n",
       "  <tbody>\n",
       "    <tr>\n",
       "      <th>0</th>\n",
       "      <td>1</td>\n",
       "      <td>Maria Alice Santos</td>\n",
       "      <td>🌟 Hey Maria, que tal aproveitar nossos incríve...</td>\n",
       "    </tr>\n",
       "    <tr>\n",
       "      <th>1</th>\n",
       "      <td>2</td>\n",
       "      <td>Ronaldo Nunes</td>\n",
       "      <td>⚠️ Ronaldo, alerta importante! Seu cartão com ...</td>\n",
       "    </tr>\n",
       "    <tr>\n",
       "      <th>2</th>\n",
       "      <td>3</td>\n",
       "      <td>Paulo Moreira</td>\n",
       "      <td>🌟 Hey Paulo, que tal aproveitar nossos incríve...</td>\n",
       "    </tr>\n",
       "    <tr>\n",
       "      <th>3</th>\n",
       "      <td>4</td>\n",
       "      <td>Ana Rodrigues</td>\n",
       "      <td>🔍 Ana, seus gastos estão moderados. Que tal da...</td>\n",
       "    </tr>\n",
       "    <tr>\n",
       "      <th>4</th>\n",
       "      <td>5</td>\n",
       "      <td>Carlos Lima</td>\n",
       "      <td>💡 Carlos, ótimo equilíbrio nos gastos! Continu...</td>\n",
       "    </tr>\n",
       "    <tr>\n",
       "      <th>5</th>\n",
       "      <td>6</td>\n",
       "      <td>Lúcia Almeida</td>\n",
       "      <td>⚠️ Lúcia, alerta importante! Seu cartão com fi...</td>\n",
       "    </tr>\n",
       "    <tr>\n",
       "      <th>6</th>\n",
       "      <td>7</td>\n",
       "      <td>Fernando Sousa</td>\n",
       "      <td>💡 Fernando, ótimo equilíbrio nos gastos! Conti...</td>\n",
       "    </tr>\n",
       "    <tr>\n",
       "      <th>7</th>\n",
       "      <td>8</td>\n",
       "      <td>Mariana Costa</td>\n",
       "      <td>⚠️ Mariana, alerta importante! Seu cartão com ...</td>\n",
       "    </tr>\n",
       "    <tr>\n",
       "      <th>8</th>\n",
       "      <td>9</td>\n",
       "      <td>José Silva</td>\n",
       "      <td>🚀 José, você está abaixo do limite! Mantenha o...</td>\n",
       "    </tr>\n",
       "  </tbody>\n",
       "</table>\n",
       "</div>"
      ],
      "text/plain": [
       "   user_id            username  \\\n",
       "0        1  Maria Alice Santos   \n",
       "1        2       Ronaldo Nunes   \n",
       "2        3       Paulo Moreira   \n",
       "3        4       Ana Rodrigues   \n",
       "4        5         Carlos Lima   \n",
       "5        6       Lúcia Almeida   \n",
       "6        7      Fernando Sousa   \n",
       "7        8       Mariana Costa   \n",
       "8        9          José Silva   \n",
       "\n",
       "                                             message  \n",
       "0  🌟 Hey Maria, que tal aproveitar nossos incríve...  \n",
       "1  ⚠️ Ronaldo, alerta importante! Seu cartão com ...  \n",
       "2  🌟 Hey Paulo, que tal aproveitar nossos incríve...  \n",
       "3  🔍 Ana, seus gastos estão moderados. Que tal da...  \n",
       "4  💡 Carlos, ótimo equilíbrio nos gastos! Continu...  \n",
       "5  ⚠️ Lúcia, alerta importante! Seu cartão com fi...  \n",
       "6  💡 Fernando, ótimo equilíbrio nos gastos! Conti...  \n",
       "7  ⚠️ Mariana, alerta importante! Seu cartão com ...  \n",
       "8  🚀 José, você está abaixo do limite! Mantenha o...  "
      ]
     },
     "metadata": {},
     "output_type": "display_data"
    }
   ],
   "source": [
    "query = '''\n",
    "    SELECT u.id AS user_id, u.name AS username, n.message as message\n",
    "    FROM users u\n",
    "    JOIN news n ON u.id = n.user_id\n",
    "'''\n",
    "\n",
    "conn = sqlite3.connect('SDW2023.db')\n",
    "df = pd.read_sql(query, conn)\n",
    "conn.close()\n",
    "\n",
    "display(df)"
   ]
  },
  {
   "cell_type": "markdown",
   "id": "969aae9d",
   "metadata": {},
   "source": [
    "# 5. Conclusão\n",
    "A conclusão do desafio de ETL da <b>Santander Dev Week 2023</b> representa uma conquista sólida na jornada de manipulação de dados. Cada etapa, desde a extração até o carregamento nos bancos de dados, foi abordada com diligência e organização.\n",
    "\n",
    "A transformação dos dados brutos resultou em alertas personalizados, fornecendo informações valiosas para os usuários tomarem decisões informadas sobre o uso de seus cartões de crédito."
   ]
  }
 ],
 "metadata": {
  "kernelspec": {
   "display_name": "Python 3 (ipykernel)",
   "language": "python",
   "name": "python3"
  },
  "language_info": {
   "codemirror_mode": {
    "name": "ipython",
    "version": 3
   },
   "file_extension": ".py",
   "mimetype": "text/x-python",
   "name": "python",
   "nbconvert_exporter": "python",
   "pygments_lexer": "ipython3",
   "version": "3.9.13"
  }
 },
 "nbformat": 4,
 "nbformat_minor": 5
}
